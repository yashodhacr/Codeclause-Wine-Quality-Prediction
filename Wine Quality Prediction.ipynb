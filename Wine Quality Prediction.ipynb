{
 "cells": [
  {
   "cell_type": "code",
   "execution_count": null,
   "id": "12c4327f",
   "metadata": {},
   "outputs": [],
   "source": [
    "import pandas as pd\n",
    "import numpy as np\n",
    "import matplotlib.pyplot as plt\n",
    "import seaborn as sns\n",
    "from sklearn.datasets import load_wine\n",
    "\n",
    "%matplotlib inline\n",
    "sns.set_style(\"whitegrid\")\n",
    "plt.style.use(\"fivethirtyeight\")"
   ]
  },
  {
   "cell_type": "markdown",
   "id": "0b14eddf",
   "metadata": {
    "execution": {
     "iopub.execute_input": "2022-12-08T13:30:21.713699Z",
     "iopub.status.busy": "2022-12-08T13:30:21.711975Z",
     "iopub.status.idle": "2022-12-08T13:30:21.723842Z",
     "shell.execute_reply": "2022-12-08T13:30:21.722217Z",
     "shell.execute_reply.started": "2022-12-08T13:30:21.713572Z"
    }
   },
   "source": [
    "## dataset = load_wine()\n",
    "dataset.keys()\n",
    "\n",
    "\n"
   ]
  },
  {
   "cell_type": "code",
   "execution_count": 6,
   "id": "a4f07bc0",
   "metadata": {
    "execution": {
     "iopub.execute_input": "2022-12-08T13:30:25.543889Z",
     "iopub.status.busy": "2022-12-08T13:30:25.543436Z",
     "iopub.status.idle": "2022-12-08T13:30:25.569417Z",
     "shell.execute_reply": "2022-12-08T13:30:25.568076Z",
     "shell.execute_reply.started": "2022-12-08T13:30:25.543852Z"
    }
   },
   "outputs": [
    {
     "data": {
      "text/html": [
       "<div>\n",
       "<style scoped>\n",
       "    .dataframe tbody tr th:only-of-type {\n",
       "        vertical-align: middle;\n",
       "    }\n",
       "\n",
       "    .dataframe tbody tr th {\n",
       "        vertical-align: top;\n",
       "    }\n",
       "\n",
       "    .dataframe thead th {\n",
       "        text-align: right;\n",
       "    }\n",
       "</style>\n",
       "<table border=\"1\" class=\"dataframe\">\n",
       "  <thead>\n",
       "    <tr style=\"text-align: right;\">\n",
       "      <th></th>\n",
       "      <th>alcohol</th>\n",
       "      <th>malic_acid</th>\n",
       "      <th>ash</th>\n",
       "      <th>alcalinity_of_ash</th>\n",
       "      <th>magnesium</th>\n",
       "      <th>total_phenols</th>\n",
       "      <th>flavanoids</th>\n",
       "      <th>nonflavanoid_phenols</th>\n",
       "      <th>proanthocyanins</th>\n",
       "      <th>color_intensity</th>\n",
       "      <th>hue</th>\n",
       "      <th>od280/od315_of_diluted_wines</th>\n",
       "      <th>proline</th>\n",
       "    </tr>\n",
       "  </thead>\n",
       "  <tbody>\n",
       "    <tr>\n",
       "      <th>0</th>\n",
       "      <td>14.23</td>\n",
       "      <td>1.71</td>\n",
       "      <td>2.43</td>\n",
       "      <td>15.6</td>\n",
       "      <td>127.0</td>\n",
       "      <td>2.80</td>\n",
       "      <td>3.06</td>\n",
       "      <td>0.28</td>\n",
       "      <td>2.29</td>\n",
       "      <td>5.64</td>\n",
       "      <td>1.04</td>\n",
       "      <td>3.92</td>\n",
       "      <td>1065.0</td>\n",
       "    </tr>\n",
       "    <tr>\n",
       "      <th>1</th>\n",
       "      <td>13.20</td>\n",
       "      <td>1.78</td>\n",
       "      <td>2.14</td>\n",
       "      <td>11.2</td>\n",
       "      <td>100.0</td>\n",
       "      <td>2.65</td>\n",
       "      <td>2.76</td>\n",
       "      <td>0.26</td>\n",
       "      <td>1.28</td>\n",
       "      <td>4.38</td>\n",
       "      <td>1.05</td>\n",
       "      <td>3.40</td>\n",
       "      <td>1050.0</td>\n",
       "    </tr>\n",
       "    <tr>\n",
       "      <th>2</th>\n",
       "      <td>13.16</td>\n",
       "      <td>2.36</td>\n",
       "      <td>2.67</td>\n",
       "      <td>18.6</td>\n",
       "      <td>101.0</td>\n",
       "      <td>2.80</td>\n",
       "      <td>3.24</td>\n",
       "      <td>0.30</td>\n",
       "      <td>2.81</td>\n",
       "      <td>5.68</td>\n",
       "      <td>1.03</td>\n",
       "      <td>3.17</td>\n",
       "      <td>1185.0</td>\n",
       "    </tr>\n",
       "    <tr>\n",
       "      <th>3</th>\n",
       "      <td>14.37</td>\n",
       "      <td>1.95</td>\n",
       "      <td>2.50</td>\n",
       "      <td>16.8</td>\n",
       "      <td>113.0</td>\n",
       "      <td>3.85</td>\n",
       "      <td>3.49</td>\n",
       "      <td>0.24</td>\n",
       "      <td>2.18</td>\n",
       "      <td>7.80</td>\n",
       "      <td>0.86</td>\n",
       "      <td>3.45</td>\n",
       "      <td>1480.0</td>\n",
       "    </tr>\n",
       "    <tr>\n",
       "      <th>4</th>\n",
       "      <td>13.24</td>\n",
       "      <td>2.59</td>\n",
       "      <td>2.87</td>\n",
       "      <td>21.0</td>\n",
       "      <td>118.0</td>\n",
       "      <td>2.80</td>\n",
       "      <td>2.69</td>\n",
       "      <td>0.39</td>\n",
       "      <td>1.82</td>\n",
       "      <td>4.32</td>\n",
       "      <td>1.04</td>\n",
       "      <td>2.93</td>\n",
       "      <td>735.0</td>\n",
       "    </tr>\n",
       "  </tbody>\n",
       "</table>\n",
       "</div>"
      ],
      "text/plain": [
       "   alcohol  malic_acid   ash  alcalinity_of_ash  magnesium  total_phenols  \\\n",
       "0    14.23        1.71  2.43               15.6      127.0           2.80   \n",
       "1    13.20        1.78  2.14               11.2      100.0           2.65   \n",
       "2    13.16        2.36  2.67               18.6      101.0           2.80   \n",
       "3    14.37        1.95  2.50               16.8      113.0           3.85   \n",
       "4    13.24        2.59  2.87               21.0      118.0           2.80   \n",
       "\n",
       "   flavanoids  nonflavanoid_phenols  proanthocyanins  color_intensity   hue  \\\n",
       "0        3.06                  0.28             2.29             5.64  1.04   \n",
       "1        2.76                  0.26             1.28             4.38  1.05   \n",
       "2        3.24                  0.30             2.81             5.68  1.03   \n",
       "3        3.49                  0.24             2.18             7.80  0.86   \n",
       "4        2.69                  0.39             1.82             4.32  1.04   \n",
       "\n",
       "   od280/od315_of_diluted_wines  proline  \n",
       "0                          3.92   1065.0  \n",
       "1                          3.40   1050.0  \n",
       "2                          3.17   1185.0  \n",
       "3                          3.45   1480.0  \n",
       "4                          2.93    735.0  "
      ]
     },
     "execution_count": 6,
     "metadata": {},
     "output_type": "execute_result"
    }
   ],
   "source": [
    "df = pd.DataFrame(dataset['data'],columns = dataset['feature_names'])\n",
    "df.head()"
   ]
  },
  {
   "cell_type": "code",
   "execution_count": 9,
   "id": "f0799ac2",
   "metadata": {
    "execution": {
     "iopub.execute_input": "2022-12-08T13:30:39.679357Z",
     "iopub.status.busy": "2022-12-08T13:30:39.678507Z",
     "iopub.status.idle": "2022-12-08T13:30:39.696643Z",
     "shell.execute_reply": "2022-12-08T13:30:39.695238Z",
     "shell.execute_reply.started": "2022-12-08T13:30:39.679297Z"
    }
   },
   "outputs": [
    {
     "name": "stdout",
     "output_type": "stream",
     "text": [
      "<class 'pandas.core.frame.DataFrame'>\n",
      "RangeIndex: 178 entries, 0 to 177\n",
      "Data columns (total 13 columns):\n",
      " #   Column                        Non-Null Count  Dtype  \n",
      "---  ------                        --------------  -----  \n",
      " 0   alcohol                       178 non-null    float64\n",
      " 1   malic_acid                    178 non-null    float64\n",
      " 2   ash                           178 non-null    float64\n",
      " 3   alcalinity_of_ash             178 non-null    float64\n",
      " 4   magnesium                     178 non-null    float64\n",
      " 5   total_phenols                 178 non-null    float64\n",
      " 6   flavanoids                    178 non-null    float64\n",
      " 7   nonflavanoid_phenols          178 non-null    float64\n",
      " 8   proanthocyanins               178 non-null    float64\n",
      " 9   color_intensity               178 non-null    float64\n",
      " 10  hue                           178 non-null    float64\n",
      " 11  od280/od315_of_diluted_wines  178 non-null    float64\n",
      " 12  proline                       178 non-null    float64\n",
      "dtypes: float64(13)\n",
      "memory usage: 18.2 KB\n"
     ]
    }
   ],
   "source": [
    "df.info()"
   ]
  },
  {
   "cell_type": "code",
   "execution_count": 8,
   "id": "611b756a",
   "metadata": {
    "execution": {
     "iopub.execute_input": "2022-12-08T13:30:37.797969Z",
     "iopub.status.busy": "2022-12-08T13:30:37.797117Z",
     "iopub.status.idle": "2022-12-08T13:30:37.809288Z",
     "shell.execute_reply": "2022-12-08T13:30:37.807429Z",
     "shell.execute_reply.started": "2022-12-08T13:30:37.797920Z"
    }
   },
   "outputs": [
    {
     "data": {
      "text/plain": [
       "alcohol                         0\n",
       "malic_acid                      0\n",
       "ash                             0\n",
       "alcalinity_of_ash               0\n",
       "magnesium                       0\n",
       "total_phenols                   0\n",
       "flavanoids                      0\n",
       "nonflavanoid_phenols            0\n",
       "proanthocyanins                 0\n",
       "color_intensity                 0\n",
       "hue                             0\n",
       "od280/od315_of_diluted_wines    0\n",
       "proline                         0\n",
       "dtype: int64"
      ]
     },
     "execution_count": 8,
     "metadata": {},
     "output_type": "execute_result"
    }
   ],
   "source": [
    "df.isnull().sum()"
   ]
  },
  {
   "cell_type": "code",
   "execution_count": 7,
   "id": "a6b3dd33",
   "metadata": {
    "execution": {
     "iopub.execute_input": "2022-12-08T13:30:35.654180Z",
     "iopub.status.busy": "2022-12-08T13:30:35.653378Z",
     "iopub.status.idle": "2022-12-08T13:30:35.716557Z",
     "shell.execute_reply": "2022-12-08T13:30:35.715289Z",
     "shell.execute_reply.started": "2022-12-08T13:30:35.654129Z"
    }
   },
   "outputs": [
    {
     "data": {
      "text/html": [
       "<div>\n",
       "<style scoped>\n",
       "    .dataframe tbody tr th:only-of-type {\n",
       "        vertical-align: middle;\n",
       "    }\n",
       "\n",
       "    .dataframe tbody tr th {\n",
       "        vertical-align: top;\n",
       "    }\n",
       "\n",
       "    .dataframe thead th {\n",
       "        text-align: right;\n",
       "    }\n",
       "</style>\n",
       "<table border=\"1\" class=\"dataframe\">\n",
       "  <thead>\n",
       "    <tr style=\"text-align: right;\">\n",
       "      <th></th>\n",
       "      <th>alcohol</th>\n",
       "      <th>malic_acid</th>\n",
       "      <th>ash</th>\n",
       "      <th>alcalinity_of_ash</th>\n",
       "      <th>magnesium</th>\n",
       "      <th>total_phenols</th>\n",
       "      <th>flavanoids</th>\n",
       "      <th>nonflavanoid_phenols</th>\n",
       "      <th>proanthocyanins</th>\n",
       "      <th>color_intensity</th>\n",
       "      <th>hue</th>\n",
       "      <th>od280/od315_of_diluted_wines</th>\n",
       "      <th>proline</th>\n",
       "    </tr>\n",
       "  </thead>\n",
       "  <tbody>\n",
       "    <tr>\n",
       "      <th>count</th>\n",
       "      <td>178.00</td>\n",
       "      <td>178.00</td>\n",
       "      <td>178.00</td>\n",
       "      <td>178.00</td>\n",
       "      <td>178.00</td>\n",
       "      <td>178.00</td>\n",
       "      <td>178.00</td>\n",
       "      <td>178.00</td>\n",
       "      <td>178.00</td>\n",
       "      <td>178.00</td>\n",
       "      <td>178.00</td>\n",
       "      <td>178.00</td>\n",
       "      <td>178.00</td>\n",
       "    </tr>\n",
       "    <tr>\n",
       "      <th>mean</th>\n",
       "      <td>13.00</td>\n",
       "      <td>2.34</td>\n",
       "      <td>2.37</td>\n",
       "      <td>19.49</td>\n",
       "      <td>99.74</td>\n",
       "      <td>2.30</td>\n",
       "      <td>2.03</td>\n",
       "      <td>0.36</td>\n",
       "      <td>1.59</td>\n",
       "      <td>5.06</td>\n",
       "      <td>0.96</td>\n",
       "      <td>2.61</td>\n",
       "      <td>746.89</td>\n",
       "    </tr>\n",
       "    <tr>\n",
       "      <th>std</th>\n",
       "      <td>0.81</td>\n",
       "      <td>1.12</td>\n",
       "      <td>0.27</td>\n",
       "      <td>3.34</td>\n",
       "      <td>14.28</td>\n",
       "      <td>0.63</td>\n",
       "      <td>1.00</td>\n",
       "      <td>0.12</td>\n",
       "      <td>0.57</td>\n",
       "      <td>2.32</td>\n",
       "      <td>0.23</td>\n",
       "      <td>0.71</td>\n",
       "      <td>314.91</td>\n",
       "    </tr>\n",
       "    <tr>\n",
       "      <th>min</th>\n",
       "      <td>11.03</td>\n",
       "      <td>0.74</td>\n",
       "      <td>1.36</td>\n",
       "      <td>10.60</td>\n",
       "      <td>70.00</td>\n",
       "      <td>0.98</td>\n",
       "      <td>0.34</td>\n",
       "      <td>0.13</td>\n",
       "      <td>0.41</td>\n",
       "      <td>1.28</td>\n",
       "      <td>0.48</td>\n",
       "      <td>1.27</td>\n",
       "      <td>278.00</td>\n",
       "    </tr>\n",
       "    <tr>\n",
       "      <th>25%</th>\n",
       "      <td>12.36</td>\n",
       "      <td>1.60</td>\n",
       "      <td>2.21</td>\n",
       "      <td>17.20</td>\n",
       "      <td>88.00</td>\n",
       "      <td>1.74</td>\n",
       "      <td>1.21</td>\n",
       "      <td>0.27</td>\n",
       "      <td>1.25</td>\n",
       "      <td>3.22</td>\n",
       "      <td>0.78</td>\n",
       "      <td>1.94</td>\n",
       "      <td>500.50</td>\n",
       "    </tr>\n",
       "    <tr>\n",
       "      <th>50%</th>\n",
       "      <td>13.05</td>\n",
       "      <td>1.87</td>\n",
       "      <td>2.36</td>\n",
       "      <td>19.50</td>\n",
       "      <td>98.00</td>\n",
       "      <td>2.35</td>\n",
       "      <td>2.13</td>\n",
       "      <td>0.34</td>\n",
       "      <td>1.56</td>\n",
       "      <td>4.69</td>\n",
       "      <td>0.96</td>\n",
       "      <td>2.78</td>\n",
       "      <td>673.50</td>\n",
       "    </tr>\n",
       "    <tr>\n",
       "      <th>75%</th>\n",
       "      <td>13.68</td>\n",
       "      <td>3.08</td>\n",
       "      <td>2.56</td>\n",
       "      <td>21.50</td>\n",
       "      <td>107.00</td>\n",
       "      <td>2.80</td>\n",
       "      <td>2.88</td>\n",
       "      <td>0.44</td>\n",
       "      <td>1.95</td>\n",
       "      <td>6.20</td>\n",
       "      <td>1.12</td>\n",
       "      <td>3.17</td>\n",
       "      <td>985.00</td>\n",
       "    </tr>\n",
       "    <tr>\n",
       "      <th>max</th>\n",
       "      <td>14.83</td>\n",
       "      <td>5.80</td>\n",
       "      <td>3.23</td>\n",
       "      <td>30.00</td>\n",
       "      <td>162.00</td>\n",
       "      <td>3.88</td>\n",
       "      <td>5.08</td>\n",
       "      <td>0.66</td>\n",
       "      <td>3.58</td>\n",
       "      <td>13.00</td>\n",
       "      <td>1.71</td>\n",
       "      <td>4.00</td>\n",
       "      <td>1680.00</td>\n",
       "    </tr>\n",
       "  </tbody>\n",
       "</table>\n",
       "</div>"
      ],
      "text/plain": [
       "       alcohol  malic_acid    ash  alcalinity_of_ash  magnesium  \\\n",
       "count   178.00      178.00 178.00             178.00     178.00   \n",
       "mean     13.00        2.34   2.37              19.49      99.74   \n",
       "std       0.81        1.12   0.27               3.34      14.28   \n",
       "min      11.03        0.74   1.36              10.60      70.00   \n",
       "25%      12.36        1.60   2.21              17.20      88.00   \n",
       "50%      13.05        1.87   2.36              19.50      98.00   \n",
       "75%      13.68        3.08   2.56              21.50     107.00   \n",
       "max      14.83        5.80   3.23              30.00     162.00   \n",
       "\n",
       "       total_phenols  flavanoids  nonflavanoid_phenols  proanthocyanins  \\\n",
       "count         178.00      178.00                178.00           178.00   \n",
       "mean            2.30        2.03                  0.36             1.59   \n",
       "std             0.63        1.00                  0.12             0.57   \n",
       "min             0.98        0.34                  0.13             0.41   \n",
       "25%             1.74        1.21                  0.27             1.25   \n",
       "50%             2.35        2.13                  0.34             1.56   \n",
       "75%             2.80        2.88                  0.44             1.95   \n",
       "max             3.88        5.08                  0.66             3.58   \n",
       "\n",
       "       color_intensity    hue  od280/od315_of_diluted_wines  proline  \n",
       "count           178.00 178.00                        178.00   178.00  \n",
       "mean              5.06   0.96                          2.61   746.89  \n",
       "std               2.32   0.23                          0.71   314.91  \n",
       "min               1.28   0.48                          1.27   278.00  \n",
       "25%               3.22   0.78                          1.94   500.50  \n",
       "50%               4.69   0.96                          2.78   673.50  \n",
       "75%               6.20   1.12                          3.17   985.00  \n",
       "max              13.00   1.71                          4.00  1680.00  "
      ]
     },
     "execution_count": 7,
     "metadata": {},
     "output_type": "execute_result"
    }
   ],
   "source": [
    "pd.set_option('display.float_format', '{:.2f}'.format)\n",
    "df.describe()"
   ]
  },
  {
   "cell_type": "code",
   "execution_count": 10,
   "id": "57b1e3f0",
   "metadata": {
    "execution": {
     "iopub.execute_input": "2022-12-08T13:30:44.776496Z",
     "iopub.status.busy": "2022-12-08T13:30:44.776000Z",
     "iopub.status.idle": "2022-12-08T13:30:44.784623Z",
     "shell.execute_reply": "2022-12-08T13:30:44.783726Z",
     "shell.execute_reply.started": "2022-12-08T13:30:44.776455Z"
    }
   },
   "outputs": [],
   "source": [
    "categorical_val = []\n",
    "continous_val = []\n",
    "for column in df.columns:\n",
    "#     print('==============================')\n",
    "#     print(f\"{column} : {df[column].unique()}\")\n",
    "    if len(df[column].unique()) <= 10:\n",
    "        categorical_val.append(column)\n",
    "    else:\n",
    "        continous_val.append(column)"
   ]
  },
  {
   "cell_type": "code",
   "execution_count": 11,
   "id": "5f039756",
   "metadata": {
    "execution": {
     "iopub.execute_input": "2022-12-08T13:30:47.359244Z",
     "iopub.status.busy": "2022-12-08T13:30:47.358560Z",
     "iopub.status.idle": "2022-12-08T13:30:47.366457Z",
     "shell.execute_reply": "2022-12-08T13:30:47.365200Z",
     "shell.execute_reply.started": "2022-12-08T13:30:47.359208Z"
    }
   },
   "outputs": [
    {
     "data": {
      "text/plain": [
       "Index(['alcohol', 'malic_acid', 'ash', 'alcalinity_of_ash', 'magnesium',\n",
       "       'total_phenols', 'flavanoids', 'nonflavanoid_phenols',\n",
       "       'proanthocyanins', 'color_intensity', 'hue',\n",
       "       'od280/od315_of_diluted_wines', 'proline'],\n",
       "      dtype='object')"
      ]
     },
     "execution_count": 11,
     "metadata": {},
     "output_type": "execute_result"
    }
   ],
   "source": [
    "df.columns"
   ]
  },
  {
   "cell_type": "code",
   "execution_count": 12,
   "id": "4796fc99",
   "metadata": {
    "execution": {
     "iopub.execute_input": "2022-12-08T13:31:19.536428Z",
     "iopub.status.busy": "2022-12-08T13:31:19.535746Z",
     "iopub.status.idle": "2022-12-08T13:31:19.546917Z",
     "shell.execute_reply": "2022-12-08T13:31:19.545877Z",
     "shell.execute_reply.started": "2022-12-08T13:31:19.536391Z"
    }
   },
   "outputs": [
    {
     "name": "stdout",
     "output_type": "stream",
     "text": [
      "============================================\n",
      "alcohol ==> Missing zeros : 0\n",
      "============================================\n",
      "malic_acid ==> Missing zeros : 0\n",
      "============================================\n",
      "ash ==> Missing zeros : 0\n",
      "============================================\n",
      "alcalinity_of_ash ==> Missing zeros : 0\n",
      "============================================\n",
      "magnesium ==> Missing zeros : 0\n",
      "============================================\n",
      "total_phenols ==> Missing zeros : 0\n",
      "============================================\n",
      "flavanoids ==> Missing zeros : 0\n",
      "============================================\n",
      "nonflavanoid_phenols ==> Missing zeros : 0\n",
      "============================================\n",
      "proanthocyanins ==> Missing zeros : 0\n",
      "============================================\n",
      "color_intensity ==> Missing zeros : 0\n",
      "============================================\n",
      "hue ==> Missing zeros : 0\n"
     ]
    }
   ],
   "source": [
    "# How many missing zeros are mising in each feature\n",
    "feature_columns = ['alcohol', 'malic_acid', 'ash', 'alcalinity_of_ash', 'magnesium',\n",
    "       'total_phenols', 'flavanoids', 'nonflavanoid_phenols',\n",
    "       'proanthocyanins', 'color_intensity', 'hue']\n",
    "for column in feature_columns:\n",
    "    print(\"============================================\")\n",
    "    print(f\"{column} ==> Missing zeros : {len(df.loc[df[column] == 0])}\")"
   ]
  },
  {
   "cell_type": "code",
   "execution_count": 13,
   "id": "603119a1",
   "metadata": {
    "execution": {
     "iopub.execute_input": "2022-12-08T13:31:22.389178Z",
     "iopub.status.busy": "2022-12-08T13:31:22.388518Z",
     "iopub.status.idle": "2022-12-08T13:31:22.561743Z",
     "shell.execute_reply": "2022-12-08T13:31:22.560687Z",
     "shell.execute_reply.started": "2022-12-08T13:31:22.389094Z"
    }
   },
   "outputs": [],
   "source": [
    "from sklearn.impute import SimpleImputer\n",
    "\n",
    "fill_values = SimpleImputer(missing_values=0, strategy=\"mean\", copy=False)\n",
    "\n",
    "df[feature_columns] = fill_values.fit_transform(df[feature_columns])"
   ]
  },
  {
   "cell_type": "code",
   "execution_count": 14,
   "id": "c3cb7a24",
   "metadata": {
    "execution": {
     "iopub.execute_input": "2022-12-08T13:31:23.219735Z",
     "iopub.status.busy": "2022-12-08T13:31:23.219324Z",
     "iopub.status.idle": "2022-12-08T13:31:23.231734Z",
     "shell.execute_reply": "2022-12-08T13:31:23.230153Z",
     "shell.execute_reply.started": "2022-12-08T13:31:23.219702Z"
    }
   },
   "outputs": [
    {
     "name": "stdout",
     "output_type": "stream",
     "text": [
      "============================================\n",
      "alcohol ==> Missing zeros : 0\n",
      "============================================\n",
      "malic_acid ==> Missing zeros : 0\n",
      "============================================\n",
      "ash ==> Missing zeros : 0\n",
      "============================================\n",
      "alcalinity_of_ash ==> Missing zeros : 0\n",
      "============================================\n",
      "magnesium ==> Missing zeros : 0\n",
      "============================================\n",
      "total_phenols ==> Missing zeros : 0\n",
      "============================================\n",
      "flavanoids ==> Missing zeros : 0\n",
      "============================================\n",
      "nonflavanoid_phenols ==> Missing zeros : 0\n",
      "============================================\n",
      "proanthocyanins ==> Missing zeros : 0\n",
      "============================================\n",
      "color_intensity ==> Missing zeros : 0\n",
      "============================================\n",
      "hue ==> Missing zeros : 0\n"
     ]
    }
   ],
   "source": [
    "for column in feature_columns:\n",
    "    print(\"============================================\")\n",
    "    print(f\"{column} ==> Missing zeros : {len(df.loc[df[column] == 0])}\")"
   ]
  },
  {
   "cell_type": "code",
   "execution_count": 18,
   "id": "e6b9f718",
   "metadata": {
    "execution": {
     "iopub.execute_input": "2022-12-08T13:32:37.786315Z",
     "iopub.status.busy": "2022-12-08T13:32:37.785877Z",
     "iopub.status.idle": "2022-12-08T13:32:37.795954Z",
     "shell.execute_reply": "2022-12-08T13:32:37.794593Z",
     "shell.execute_reply.started": "2022-12-08T13:32:37.786261Z"
    }
   },
   "outputs": [],
   "source": [
    "from sklearn.model_selection import train_test_split\n",
    "\n",
    "\n",
    "X = df[feature_columns]\n",
    "y = dataset['target']\n",
    "\n",
    "X_train, X_test, y_train, y_test = train_test_split(X, y, test_size=0.3, random_state=42)"
   ]
  },
  {
   "cell_type": "code",
   "execution_count": 19,
   "id": "b6a648b0",
   "metadata": {
    "execution": {
     "iopub.execute_input": "2022-12-08T13:32:41.325122Z",
     "iopub.status.busy": "2022-12-08T13:32:41.324712Z",
     "iopub.status.idle": "2022-12-08T13:32:41.334096Z",
     "shell.execute_reply": "2022-12-08T13:32:41.332529Z",
     "shell.execute_reply.started": "2022-12-08T13:32:41.325090Z"
    }
   },
   "outputs": [],
   "source": [
    "from sklearn.metrics import confusion_matrix, accuracy_score, classification_report\n",
    "\n",
    "\n",
    "def evaluate(model, X_train, X_test, y_train, y_test):\n",
    "    y_test_pred = model.predict(X_test)\n",
    "    y_train_pred = model.predict(X_train)\n",
    "\n",
    "    print(\"TRAINIG RESULTS: \\n===============================\")\n",
    "    clf_report = pd.DataFrame(classification_report(y_train, y_train_pred, output_dict=True))\n",
    "    print(f\"CONFUSION MATRIX:\\n{confusion_matrix(y_train, y_train_pred)}\")\n",
    "    print(f\"ACCURACY SCORE:\\n{accuracy_score(y_train, y_train_pred):.4f}\")\n",
    "    print(f\"CLASSIFICATION REPORT:\\n{clf_report}\")\n",
    "\n",
    "    print(\"TESTING RESULTS: \\n===============================\")\n",
    "    clf_report = pd.DataFrame(classification_report(y_test, y_test_pred, output_dict=True))\n",
    "    print(f\"CONFUSION MATRIX:\\n{confusion_matrix(y_test, y_test_pred)}\")\n",
    "    print(f\"ACCURACY SCORE:\\n{accuracy_score(y_test, y_test_pred):.4f}\")\n",
    "    print(f\"CLASSIFICATION REPORT:\\n{clf_report}\")"
   ]
  },
  {
   "cell_type": "code",
   "execution_count": 20,
   "id": "f93d47b4",
   "metadata": {
    "execution": {
     "iopub.execute_input": "2022-12-08T13:32:43.175406Z",
     "iopub.status.busy": "2022-12-08T13:32:43.174180Z",
     "iopub.status.idle": "2022-12-08T13:32:46.079134Z",
     "shell.execute_reply": "2022-12-08T13:32:46.077793Z",
     "shell.execute_reply.started": "2022-12-08T13:32:43.175351Z"
    }
   },
   "outputs": [
    {
     "name": "stdout",
     "output_type": "stream",
     "text": [
      "TRAINIG RESULTS: \n",
      "===============================\n",
      "CONFUSION MATRIX:\n",
      "[[40  0  0]\n",
      " [ 0 50  0]\n",
      " [ 0  0 34]]\n",
      "ACCURACY SCORE:\n",
      "1.0000\n",
      "CLASSIFICATION REPORT:\n",
      "              0     1     2  accuracy  macro avg  weighted avg\n",
      "precision  1.00  1.00  1.00      1.00       1.00          1.00\n",
      "recall     1.00  1.00  1.00      1.00       1.00          1.00\n",
      "f1-score   1.00  1.00  1.00      1.00       1.00          1.00\n",
      "support   40.00 50.00 34.00      1.00     124.00        124.00\n",
      "TESTING RESULTS: \n",
      "===============================\n",
      "CONFUSION MATRIX:\n",
      "[[17  2  0]\n",
      " [ 2 19  0]\n",
      " [ 1  0 13]]\n",
      "ACCURACY SCORE:\n",
      "0.9074\n",
      "CLASSIFICATION REPORT:\n",
      "              0     1     2  accuracy  macro avg  weighted avg\n",
      "precision  0.85  0.90  1.00      0.91       0.92          0.91\n",
      "recall     0.89  0.90  0.93      0.91       0.91          0.91\n",
      "f1-score   0.87  0.90  0.96      0.91       0.91          0.91\n",
      "support   19.00 21.00 14.00      0.91      54.00         54.00\n"
     ]
    }
   ],
   "source": [
    "from sklearn.ensemble import BaggingClassifier\n",
    "from sklearn.tree import DecisionTreeClassifier\n",
    "\n",
    "tree = DecisionTreeClassifier()\n",
    "bagging_clf = BaggingClassifier(base_estimator=tree, n_estimators=1500, random_state=42)\n",
    "bagging_clf.fit(X_train, y_train)\n",
    "\n",
    "evaluate(bagging_clf, X_train, X_test, y_train, y_test)"
   ]
  },
  {
   "cell_type": "code",
   "execution_count": 21,
   "id": "199456c8",
   "metadata": {
    "execution": {
     "iopub.execute_input": "2022-12-08T13:32:48.006410Z",
     "iopub.status.busy": "2022-12-08T13:32:48.005715Z",
     "iopub.status.idle": "2022-12-08T13:32:48.334941Z",
     "shell.execute_reply": "2022-12-08T13:32:48.333753Z",
     "shell.execute_reply.started": "2022-12-08T13:32:48.006361Z"
    }
   },
   "outputs": [],
   "source": [
    "scores = {\n",
    "    'Bagging Classifier': {\n",
    "        'Train': accuracy_score(y_train, bagging_clf.predict(X_train)),\n",
    "        'Test': accuracy_score(y_test, bagging_clf.predict(X_test)),\n",
    "    },\n",
    "}"
   ]
  },
  {
   "cell_type": "code",
   "execution_count": 22,
   "id": "8b73ea29",
   "metadata": {
    "execution": {
     "iopub.execute_input": "2022-12-08T13:32:51.092719Z",
     "iopub.status.busy": "2022-12-08T13:32:51.092259Z",
     "iopub.status.idle": "2022-12-08T13:32:52.806243Z",
     "shell.execute_reply": "2022-12-08T13:32:52.805001Z",
     "shell.execute_reply.started": "2022-12-08T13:32:51.092676Z"
    }
   },
   "outputs": [
    {
     "name": "stdout",
     "output_type": "stream",
     "text": [
      "TRAINIG RESULTS: \n",
      "===============================\n",
      "CONFUSION MATRIX:\n",
      "[[40  0  0]\n",
      " [ 0 50  0]\n",
      " [ 0  0 34]]\n",
      "ACCURACY SCORE:\n",
      "1.0000\n",
      "CLASSIFICATION REPORT:\n",
      "              0     1     2  accuracy  macro avg  weighted avg\n",
      "precision  1.00  1.00  1.00      1.00       1.00          1.00\n",
      "recall     1.00  1.00  1.00      1.00       1.00          1.00\n",
      "f1-score   1.00  1.00  1.00      1.00       1.00          1.00\n",
      "support   40.00 50.00 34.00      1.00     124.00        124.00\n",
      "TESTING RESULTS: \n",
      "===============================\n",
      "CONFUSION MATRIX:\n",
      "[[19  0  0]\n",
      " [ 1 20  0]\n",
      " [ 0  0 14]]\n",
      "ACCURACY SCORE:\n",
      "0.9815\n",
      "CLASSIFICATION REPORT:\n",
      "              0     1     2  accuracy  macro avg  weighted avg\n",
      "precision  0.95  1.00  1.00      0.98       0.98          0.98\n",
      "recall     1.00  0.95  1.00      0.98       0.98          0.98\n",
      "f1-score   0.97  0.98  1.00      0.98       0.98          0.98\n",
      "support   19.00 21.00 14.00      0.98      54.00         54.00\n"
     ]
    }
   ],
   "source": [
    "from sklearn.ensemble import RandomForestClassifier\n",
    "\n",
    "rf_clf = RandomForestClassifier(random_state=42, n_estimators=1000)\n",
    "rf_clf.fit(X_train, y_train)\n",
    "evaluate(rf_clf, X_train, X_test, y_train, y_test)"
   ]
  },
  {
   "cell_type": "code",
   "execution_count": 23,
   "id": "3e07d6cf",
   "metadata": {
    "execution": {
     "iopub.execute_input": "2022-12-08T13:33:19.025409Z",
     "iopub.status.busy": "2022-12-08T13:33:19.024027Z",
     "iopub.status.idle": "2022-12-08T13:33:19.287289Z",
     "shell.execute_reply": "2022-12-08T13:33:19.286231Z",
     "shell.execute_reply.started": "2022-12-08T13:33:19.025357Z"
    }
   },
   "outputs": [],
   "source": [
    "scores['Random Forest'] = {\n",
    "        'Train': accuracy_score(y_train, rf_clf.predict(X_train)),\n",
    "        'Test': accuracy_score(y_test, rf_clf.predict(X_test)),\n",
    "    }"
   ]
  },
  {
   "cell_type": "code",
   "execution_count": 24,
   "id": "2c4fa31e",
   "metadata": {
    "execution": {
     "iopub.execute_input": "2022-12-08T13:33:21.228901Z",
     "iopub.status.busy": "2022-12-08T13:33:21.228444Z",
     "iopub.status.idle": "2022-12-08T13:33:21.325467Z",
     "shell.execute_reply": "2022-12-08T13:33:21.324018Z",
     "shell.execute_reply.started": "2022-12-08T13:33:21.228864Z"
    }
   },
   "outputs": [
    {
     "name": "stdout",
     "output_type": "stream",
     "text": [
      "TRAINIG RESULTS: \n",
      "===============================\n",
      "CONFUSION MATRIX:\n",
      "[[39  1  0]\n",
      " [ 1 49  0]\n",
      " [ 0  0 34]]\n",
      "ACCURACY SCORE:\n",
      "0.9839\n",
      "CLASSIFICATION REPORT:\n",
      "              0     1     2  accuracy  macro avg  weighted avg\n",
      "precision  0.97  0.98  1.00      0.98       0.98          0.98\n",
      "recall     0.97  0.98  1.00      0.98       0.98          0.98\n",
      "f1-score   0.97  0.98  1.00      0.98       0.98          0.98\n",
      "support   40.00 50.00 34.00      0.98     124.00        124.00\n",
      "TESTING RESULTS: \n",
      "===============================\n",
      "CONFUSION MATRIX:\n",
      "[[18  1  0]\n",
      " [ 1 20  0]\n",
      " [ 0  1 13]]\n",
      "ACCURACY SCORE:\n",
      "0.9444\n",
      "CLASSIFICATION REPORT:\n",
      "              0     1     2  accuracy  macro avg  weighted avg\n",
      "precision  0.95  0.91  1.00      0.94       0.95          0.95\n",
      "recall     0.95  0.95  0.93      0.94       0.94          0.94\n",
      "f1-score   0.95  0.93  0.96      0.94       0.95          0.94\n",
      "support   19.00 21.00 14.00      0.94      54.00         54.00\n"
     ]
    }
   ],
   "source": [
    "# AdaBoost\n",
    "from sklearn.ensemble import AdaBoostClassifier\n",
    "\n",
    "ada_boost_clf = AdaBoostClassifier(n_estimators=30)\n",
    "ada_boost_clf.fit(X_train, y_train)\n",
    "evaluate(ada_boost_clf, X_train, X_test, y_train, y_test)"
   ]
  },
  {
   "cell_type": "code",
   "execution_count": 26,
   "id": "62b632c9",
   "metadata": {
    "execution": {
     "iopub.execute_input": "2022-12-08T13:33:30.068112Z",
     "iopub.status.busy": "2022-12-08T13:33:30.067707Z",
     "iopub.status.idle": "2022-12-08T13:33:30.091194Z",
     "shell.execute_reply": "2022-12-08T13:33:30.089745Z",
     "shell.execute_reply.started": "2022-12-08T13:33:30.068078Z"
    }
   },
   "outputs": [],
   "source": [
    "scores['AdaBoost'] = {\n",
    "        'Train': accuracy_score(y_train, ada_boost_clf.predict(X_train)),\n",
    "        'Test': accuracy_score(y_test, ada_boost_clf.predict(X_test)),\n",
    "    }"
   ]
  },
  {
   "cell_type": "code",
   "execution_count": 27,
   "id": "f60098d0",
   "metadata": {
    "execution": {
     "iopub.execute_input": "2022-12-08T13:33:31.894758Z",
     "iopub.status.busy": "2022-12-08T13:33:31.894334Z",
     "iopub.status.idle": "2022-12-08T13:33:32.236398Z",
     "shell.execute_reply": "2022-12-08T13:33:32.235004Z",
     "shell.execute_reply.started": "2022-12-08T13:33:31.894725Z"
    }
   },
   "outputs": [
    {
     "name": "stdout",
     "output_type": "stream",
     "text": [
      "TRAINIG RESULTS: \n",
      "===============================\n",
      "CONFUSION MATRIX:\n",
      "[[40  0  0]\n",
      " [ 0 50  0]\n",
      " [ 0  0 34]]\n",
      "ACCURACY SCORE:\n",
      "1.0000\n",
      "CLASSIFICATION REPORT:\n",
      "              0     1     2  accuracy  macro avg  weighted avg\n",
      "precision  1.00  1.00  1.00      1.00       1.00          1.00\n",
      "recall     1.00  1.00  1.00      1.00       1.00          1.00\n",
      "f1-score   1.00  1.00  1.00      1.00       1.00          1.00\n",
      "support   40.00 50.00 34.00      1.00     124.00        124.00\n",
      "TESTING RESULTS: \n",
      "===============================\n",
      "CONFUSION MATRIX:\n",
      "[[19  0  0]\n",
      " [ 1 20  0]\n",
      " [ 0  1 13]]\n",
      "ACCURACY SCORE:\n",
      "0.9630\n",
      "CLASSIFICATION REPORT:\n",
      "              0     1     2  accuracy  macro avg  weighted avg\n",
      "precision  0.95  0.95  1.00      0.96       0.97          0.96\n",
      "recall     1.00  0.95  0.93      0.96       0.96          0.96\n",
      "f1-score   0.97  0.95  0.96      0.96       0.96          0.96\n",
      "support   19.00 21.00 14.00      0.96      54.00         54.00\n"
     ]
    }
   ],
   "source": [
    "# Stochastic Gradient Boosting\n",
    "from sklearn.ensemble import GradientBoostingClassifier\n",
    "\n",
    "grad_boost_clf = GradientBoostingClassifier(n_estimators=100, random_state=42)\n",
    "grad_boost_clf.fit(X_train, y_train)\n",
    "evaluate(grad_boost_clf, X_train, X_test, y_train, y_test)"
   ]
  },
  {
   "cell_type": "code",
   "execution_count": 28,
   "id": "6bffb13c",
   "metadata": {
    "execution": {
     "iopub.execute_input": "2022-12-08T13:33:48.271006Z",
     "iopub.status.busy": "2022-12-08T13:33:48.270381Z",
     "iopub.status.idle": "2022-12-08T13:33:48.282889Z",
     "shell.execute_reply": "2022-12-08T13:33:48.281705Z",
     "shell.execute_reply.started": "2022-12-08T13:33:48.270956Z"
    }
   },
   "outputs": [],
   "source": [
    "scores['Gradient Boosting'] = {\n",
    "        'Train': accuracy_score(y_train, grad_boost_clf.predict(X_train)),\n",
    "        'Test': accuracy_score(y_test, grad_boost_clf.predict(X_test)),\n",
    "    }"
   ]
  },
  {
   "cell_type": "code",
   "execution_count": 29,
   "id": "bdf53e54",
   "metadata": {
    "execution": {
     "iopub.execute_input": "2022-12-08T13:33:51.172220Z",
     "iopub.status.busy": "2022-12-08T13:33:51.171757Z",
     "iopub.status.idle": "2022-12-08T13:33:51.219971Z",
     "shell.execute_reply": "2022-12-08T13:33:51.218452Z",
     "shell.execute_reply.started": "2022-12-08T13:33:51.172183Z"
    }
   },
   "outputs": [
    {
     "name": "stdout",
     "output_type": "stream",
     "text": [
      "TRAINIG RESULTS: \n",
      "===============================\n",
      "CONFUSION MATRIX:\n",
      "[[40  0  0]\n",
      " [ 0 50  0]\n",
      " [ 0  0 34]]\n",
      "ACCURACY SCORE:\n",
      "1.0000\n",
      "CLASSIFICATION REPORT:\n",
      "              0     1     2  accuracy  macro avg  weighted avg\n",
      "precision  1.00  1.00  1.00      1.00       1.00          1.00\n",
      "recall     1.00  1.00  1.00      1.00       1.00          1.00\n",
      "f1-score   1.00  1.00  1.00      1.00       1.00          1.00\n",
      "support   40.00 50.00 34.00      1.00     124.00        124.00\n",
      "TESTING RESULTS: \n",
      "===============================\n",
      "CONFUSION MATRIX:\n",
      "[[16  3  0]\n",
      " [ 0 21  0]\n",
      " [ 1  0 13]]\n",
      "ACCURACY SCORE:\n",
      "0.9259\n",
      "CLASSIFICATION REPORT:\n",
      "              0     1     2  accuracy  macro avg  weighted avg\n",
      "precision  0.94  0.88  1.00      0.93       0.94          0.93\n",
      "recall     0.84  1.00  0.93      0.93       0.92          0.93\n",
      "f1-score   0.89  0.93  0.96      0.93       0.93          0.93\n",
      "support   19.00 21.00 14.00      0.93      54.00         54.00\n"
     ]
    }
   ],
   "source": [
    "from sklearn.ensemble import VotingClassifier\n",
    "from sklearn.linear_model import LogisticRegression\n",
    "from sklearn.svm import SVC\n",
    "\n",
    "estimators = []\n",
    "log_reg = LogisticRegression(solver='liblinear')\n",
    "estimators.append(('Logistic', log_reg))\n",
    "\n",
    "tree = DecisionTreeClassifier()\n",
    "estimators.append(('Tree', tree))\n",
    "\n",
    "svm_clf = SVC(gamma='scale')\n",
    "estimators.append(('SVM', svm_clf))\n",
    "\n",
    "voting = VotingClassifier(estimators=estimators)\n",
    "voting.fit(X_train, y_train)\n",
    "\n",
    "evaluate(voting, X_train, X_test, y_train, y_test)"
   ]
  },
  {
   "cell_type": "code",
   "execution_count": 30,
   "id": "d30b4442",
   "metadata": {
    "execution": {
     "iopub.execute_input": "2022-12-08T13:33:55.874573Z",
     "iopub.status.busy": "2022-12-08T13:33:55.874119Z",
     "iopub.status.idle": "2022-12-08T13:33:55.892524Z",
     "shell.execute_reply": "2022-12-08T13:33:55.891389Z",
     "shell.execute_reply.started": "2022-12-08T13:33:55.874537Z"
    }
   },
   "outputs": [],
   "source": [
    "scores['Voting'] = {\n",
    "        'Train': accuracy_score(y_train, voting.predict(X_train)),\n",
    "        'Test': accuracy_score(y_test, voting.predict(X_test)),\n",
    "    }"
   ]
  },
  {
   "cell_type": "code",
   "execution_count": 32,
   "id": "465c2c1a",
   "metadata": {
    "execution": {
     "iopub.execute_input": "2022-12-08T13:34:03.428840Z",
     "iopub.status.busy": "2022-12-08T13:34:03.428413Z",
     "iopub.status.idle": "2022-12-08T13:34:03.785514Z",
     "shell.execute_reply": "2022-12-08T13:34:03.784194Z",
     "shell.execute_reply.started": "2022-12-08T13:34:03.428803Z"
    }
   },
   "outputs": [
    {
     "data": {
      "text/plain": [
       "<AxesSubplot:>"
      ]
     },
     "execution_count": 32,
     "metadata": {},
     "output_type": "execute_result"
    },
    {
     "data": {
      "image/png": "[encoded data removed]",
      "text/plain": [
       "<Figure size 1080x576 with 1 Axes>"
      ]
     },
     "metadata": {},
     "output_type": "display_data"
    }
   ],
   "source": [
    "scores_df = pd.DataFrame(scores)\n",
    "\n",
    "scores_df.plot(kind='barh', figsize=(15, 8))"
   ]
  }
 ],
 "metadata": {
  "kernelspec": {
   "display_name": "Python 3 (ipykernel)",
   "language": "python",
   "name": "python3"
  },
  "language_info": {
   "codemirror_mode": {
    "name": "ipython",
    "version": 3
   },
   "file_extension": ".py",
   "mimetype": "text/x-python",
   "name": "python",
   "nbconvert_exporter": "python",
   "pygments_lexer": "ipython3",
   "version": "3.9.7"
  }
 },
 "nbformat": 4,
 "nbformat_minor": 5
}
